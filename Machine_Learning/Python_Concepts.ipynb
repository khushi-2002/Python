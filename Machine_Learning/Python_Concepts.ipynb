{
 "cells": [
  {
   "cell_type": "markdown",
   "id": "9b66a7f5",
   "metadata": {},
   "source": [
    "## Shortcuts:\n",
    "* Ctrl+Enter--> For running the cell\n",
    "* Alt+Enter--> For creating new cells\n",
    "* B--> For creating bellow cells\n",
    "* A--> For creating above cells\n",
    "* M--> To change it to markdown cells\n",
    "* R--> To change it to Raw cells\n",
    "* DD--> To delete the cells"
   ]
  },
  {
   "cell_type": "code",
   "execution_count": 2,
   "id": "506b28b7",
   "metadata": {},
   "outputs": [
    {
     "name": "stdout",
     "output_type": "stream",
     "text": [
      "Hii! I am Khushi.\n"
     ]
    }
   ],
   "source": [
    "# format command for replacing the variables\n",
    "\n",
    "str = \"Khushi\"\n",
    "\n",
    "print((\"Hii! I am {}.\").format(str))"
   ]
  },
  {
   "cell_type": "code",
   "execution_count": 1,
   "id": "7213d087",
   "metadata": {},
   "outputs": [
    {
     "name": "stdout",
     "output_type": "stream",
     "text": [
      "Hii I am <class 'str'> and My age is 12\n"
     ]
    }
   ],
   "source": [
    "var1 = 12\n",
    "\n",
    "print(\"Hii I am {} and My age is {}\".format(str,var1))"
   ]
  },
  {
   "cell_type": "markdown",
   "id": "96a4fb87",
   "metadata": {},
   "source": [
    "## String Concepts\n"
   ]
  },
  {
   "cell_type": "code",
   "execution_count": 3,
   "id": "c3858944",
   "metadata": {},
   "outputs": [],
   "source": [
    "str = \"Khushi is my name, and I love it lol!\"\n"
   ]
  },
  {
   "cell_type": "code",
   "execution_count": 5,
   "id": "142a313f",
   "metadata": {},
   "outputs": [
    {
     "name": "stdout",
     "output_type": "stream",
     "text": [
      "Khushi is my name, and I love it lol!\n"
     ]
    }
   ],
   "source": [
    "print(str)"
   ]
  },
  {
   "cell_type": "code",
   "execution_count": 6,
   "id": "06e79c7d",
   "metadata": {},
   "outputs": [
    {
     "data": {
      "text/plain": [
       "'h'"
      ]
     },
     "execution_count": 6,
     "metadata": {},
     "output_type": "execute_result"
    }
   ],
   "source": [
    "str[1]"
   ]
  },
  {
   "cell_type": "code",
   "execution_count": 7,
   "id": "00cb62b5",
   "metadata": {},
   "outputs": [
    {
     "data": {
      "text/plain": [
       "'Khushi is '"
      ]
     },
     "execution_count": 7,
     "metadata": {},
     "output_type": "execute_result"
    }
   ],
   "source": [
    "str[:10]"
   ]
  },
  {
   "cell_type": "code",
   "execution_count": 9,
   "id": "8f2cc8c2",
   "metadata": {},
   "outputs": [
    {
     "data": {
      "text/plain": [
       "'Khushi is my name, and I love it lol!'"
      ]
     },
     "execution_count": 9,
     "metadata": {},
     "output_type": "execute_result"
    }
   ],
   "source": [
    "str[:]"
   ]
  },
  {
   "cell_type": "code",
   "execution_count": 10,
   "id": "12a19b53",
   "metadata": {},
   "outputs": [
    {
     "data": {
      "text/plain": [
       "'Khushi is my name, and I love it lol!'"
      ]
     },
     "execution_count": 10,
     "metadata": {},
     "output_type": "execute_result"
    }
   ],
   "source": [
    "str[0:]"
   ]
  },
  {
   "cell_type": "code",
   "execution_count": 11,
   "id": "a6c58ee9",
   "metadata": {},
   "outputs": [
    {
     "data": {
      "text/plain": [
       "'Khushi is my name, and I love it lol'"
      ]
     },
     "execution_count": 11,
     "metadata": {},
     "output_type": "execute_result"
    }
   ],
   "source": [
    "str[:-1]"
   ]
  },
  {
   "cell_type": "code",
   "execution_count": 13,
   "id": "60d6169f",
   "metadata": {},
   "outputs": [
    {
     "data": {
      "text/plain": [
       "'Khushi is my name, and I love i'"
      ]
     },
     "execution_count": 13,
     "metadata": {},
     "output_type": "execute_result"
    }
   ],
   "source": [
    "str[:-6]"
   ]
  },
  {
   "cell_type": "markdown",
   "id": "b257746e",
   "metadata": {},
   "source": [
    "*This is the point need to be remembered! When we pass negative index in the starting it always returns an empty string*"
   ]
  },
  {
   "cell_type": "code",
   "execution_count": 16,
   "id": "a1cf6026",
   "metadata": {},
   "outputs": [
    {
     "data": {
      "text/plain": [
       "''"
      ]
     },
     "execution_count": 16,
     "metadata": {},
     "output_type": "execute_result"
    }
   ],
   "source": [
    "str[-1:-2]"
   ]
  },
  {
   "cell_type": "code",
   "execution_count": 18,
   "id": "dd2a3c39",
   "metadata": {},
   "outputs": [
    {
     "data": {
      "text/plain": [
       "''"
      ]
     },
     "execution_count": 18,
     "metadata": {},
     "output_type": "execute_result"
    }
   ],
   "source": [
    "str[-1:2]"
   ]
  },
  {
   "cell_type": "code",
   "execution_count": 20,
   "id": "03f6f13b",
   "metadata": {},
   "outputs": [
    {
     "data": {
      "text/plain": [
       "''"
      ]
     },
     "execution_count": 20,
     "metadata": {},
     "output_type": "execute_result"
    }
   ],
   "source": [
    "str[-1:-1]"
   ]
  },
  {
   "cell_type": "code",
   "execution_count": 21,
   "id": "c3393257",
   "metadata": {},
   "outputs": [
    {
     "data": {
      "text/plain": [
       "'XYZ is my name, and I love it lol!'"
      ]
     },
     "execution_count": 21,
     "metadata": {},
     "output_type": "execute_result"
    }
   ],
   "source": [
    "str.replace(\"Khushi\", \"XYZ\")"
   ]
  },
  {
   "cell_type": "markdown",
   "id": "8679e71c",
   "metadata": {},
   "source": [
    "Step Argument"
   ]
  },
  {
   "cell_type": "code",
   "execution_count": 23,
   "id": "a8655e38",
   "metadata": {},
   "outputs": [
    {
     "data": {
      "text/plain": [
       "'Kuh'"
      ]
     },
     "execution_count": 23,
     "metadata": {},
     "output_type": "execute_result"
    }
   ],
   "source": [
    "str[0:6:2]"
   ]
  },
  {
   "cell_type": "markdown",
   "id": "75fe529b",
   "metadata": {},
   "source": [
    "## Lists"
   ]
  },
  {
   "cell_type": "code",
   "execution_count": null,
   "id": "edd32cc0",
   "metadata": {},
   "outputs": [],
   "source": []
  }
 ],
 "metadata": {
  "kernelspec": {
   "display_name": "Python 3 (ipykernel)",
   "language": "python",
   "name": "python3"
  },
  "language_info": {
   "codemirror_mode": {
    "name": "ipython",
    "version": 3
   },
   "file_extension": ".py",
   "mimetype": "text/x-python",
   "name": "python",
   "nbconvert_exporter": "python",
   "pygments_lexer": "ipython3",
   "version": "3.9.12"
  }
 },
 "nbformat": 4,
 "nbformat_minor": 5
}
