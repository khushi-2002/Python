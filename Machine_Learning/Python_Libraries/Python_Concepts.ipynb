{
 "cells": [
  {
   "cell_type": "markdown",
   "id": "9b66a7f5",
   "metadata": {},
   "source": [
    "## Shortcuts:\n",
    "* Ctrl+Enter--> For running the cell\n",
    "* Alt+Enter--> For creating new cells\n",
    "* B--> For creating bellow cells\n",
    "* A--> For creating above cells\n",
    "* M--> To change it to markdown cells\n",
    "* R--> To change it to Raw cells\n",
    "* DD--> To delete the cells"
   ]
  },
  {
   "cell_type": "code",
   "execution_count": 2,
   "id": "506b28b7",
   "metadata": {},
   "outputs": [
    {
     "name": "stdout",
     "output_type": "stream",
     "text": [
      "Hii! I am Khushi.\n"
     ]
    }
   ],
   "source": [
    "# format command for replacing the variables\n",
    "\n",
    "str = \"Khushi\"\n",
    "\n",
    "print((\"Hii! I am {}.\").format(str))"
   ]
  },
  {
   "cell_type": "code",
   "execution_count": 1,
   "id": "7213d087",
   "metadata": {},
   "outputs": [
    {
     "name": "stdout",
     "output_type": "stream",
     "text": [
      "Hii I am <class 'str'> and My age is 12\n"
     ]
    }
   ],
   "source": [
    "var1 = 12\n",
    "\n",
    "print(\"Hii I am {} and My age is {}\".format(str,var1))"
   ]
  },
  {
   "cell_type": "markdown",
   "id": "96a4fb87",
   "metadata": {},
   "source": [
    "## String Concepts\n"
   ]
  },
  {
   "cell_type": "code",
   "execution_count": 3,
   "id": "c3858944",
   "metadata": {},
   "outputs": [],
   "source": [
    "str = \"Khushi is my name, and I love it lol!\"\n"
   ]
  },
  {
   "cell_type": "code",
   "execution_count": 5,
   "id": "142a313f",
   "metadata": {},
   "outputs": [
    {
     "name": "stdout",
     "output_type": "stream",
     "text": [
      "Khushi is my name, and I love it lol!\n"
     ]
    }
   ],
   "source": [
    "print(str)"
   ]
  },
  {
   "cell_type": "code",
   "execution_count": 6,
   "id": "06e79c7d",
   "metadata": {},
   "outputs": [
    {
     "data": {
      "text/plain": [
       "'h'"
      ]
     },
     "execution_count": 6,
     "metadata": {},
     "output_type": "execute_result"
    }
   ],
   "source": [
    "str[1]"
   ]
  },
  {
   "cell_type": "code",
   "execution_count": 7,
   "id": "00cb62b5",
   "metadata": {},
   "outputs": [
    {
     "data": {
      "text/plain": [
       "'Khushi is '"
      ]
     },
     "execution_count": 7,
     "metadata": {},
     "output_type": "execute_result"
    }
   ],
   "source": [
    "str[:10]"
   ]
  },
  {
   "cell_type": "code",
   "execution_count": 9,
   "id": "8f2cc8c2",
   "metadata": {},
   "outputs": [
    {
     "data": {
      "text/plain": [
       "'Khushi is my name, and I love it lol!'"
      ]
     },
     "execution_count": 9,
     "metadata": {},
     "output_type": "execute_result"
    }
   ],
   "source": [
    "str[:]"
   ]
  },
  {
   "cell_type": "code",
   "execution_count": 10,
   "id": "12a19b53",
   "metadata": {},
   "outputs": [
    {
     "data": {
      "text/plain": [
       "'Khushi is my name, and I love it lol!'"
      ]
     },
     "execution_count": 10,
     "metadata": {},
     "output_type": "execute_result"
    }
   ],
   "source": [
    "str[0:]"
   ]
  },
  {
   "cell_type": "code",
   "execution_count": 11,
   "id": "a6c58ee9",
   "metadata": {},
   "outputs": [
    {
     "data": {
      "text/plain": [
       "'Khushi is my name, and I love it lol'"
      ]
     },
     "execution_count": 11,
     "metadata": {},
     "output_type": "execute_result"
    }
   ],
   "source": [
    "str[:-1]"
   ]
  },
  {
   "cell_type": "code",
   "execution_count": 13,
   "id": "60d6169f",
   "metadata": {},
   "outputs": [
    {
     "data": {
      "text/plain": [
       "'Khushi is my name, and I love i'"
      ]
     },
     "execution_count": 13,
     "metadata": {},
     "output_type": "execute_result"
    }
   ],
   "source": [
    "str[:-6]"
   ]
  },
  {
   "cell_type": "markdown",
   "id": "b257746e",
   "metadata": {},
   "source": [
    "*This is the point need to be remembered! When we pass negative index in the starting it always returns an empty string*"
   ]
  },
  {
   "cell_type": "code",
   "execution_count": 16,
   "id": "a1cf6026",
   "metadata": {},
   "outputs": [
    {
     "data": {
      "text/plain": [
       "''"
      ]
     },
     "execution_count": 16,
     "metadata": {},
     "output_type": "execute_result"
    }
   ],
   "source": [
    "str[-1:-2]"
   ]
  },
  {
   "cell_type": "code",
   "execution_count": 18,
   "id": "dd2a3c39",
   "metadata": {},
   "outputs": [
    {
     "data": {
      "text/plain": [
       "''"
      ]
     },
     "execution_count": 18,
     "metadata": {},
     "output_type": "execute_result"
    }
   ],
   "source": [
    "str[-1:2]"
   ]
  },
  {
   "cell_type": "code",
   "execution_count": 20,
   "id": "03f6f13b",
   "metadata": {},
   "outputs": [
    {
     "data": {
      "text/plain": [
       "''"
      ]
     },
     "execution_count": 20,
     "metadata": {},
     "output_type": "execute_result"
    }
   ],
   "source": [
    "str[-1:-1]"
   ]
  },
  {
   "cell_type": "code",
   "execution_count": 21,
   "id": "c3393257",
   "metadata": {},
   "outputs": [
    {
     "data": {
      "text/plain": [
       "'XYZ is my name, and I love it lol!'"
      ]
     },
     "execution_count": 21,
     "metadata": {},
     "output_type": "execute_result"
    }
   ],
   "source": [
    "str.replace(\"Khushi\", \"XYZ\")"
   ]
  },
  {
   "cell_type": "markdown",
   "id": "8679e71c",
   "metadata": {},
   "source": [
    "Step Argument"
   ]
  },
  {
   "cell_type": "code",
   "execution_count": 23,
   "id": "a8655e38",
   "metadata": {},
   "outputs": [
    {
     "data": {
      "text/plain": [
       "'Kuh'"
      ]
     },
     "execution_count": 23,
     "metadata": {},
     "output_type": "execute_result"
    }
   ],
   "source": [
    "str[0:6:2]"
   ]
  },
  {
   "cell_type": "markdown",
   "id": "75fe529b",
   "metadata": {},
   "source": [
    "## Lists"
   ]
  },
  {
   "cell_type": "code",
   "execution_count": 1,
   "id": "edd32cc0",
   "metadata": {},
   "outputs": [],
   "source": [
    "A= [1,2,3,4]"
   ]
  },
  {
   "cell_type": "code",
   "execution_count": 2,
   "id": "7baa4ac7",
   "metadata": {},
   "outputs": [
    {
     "data": {
      "text/plain": [
       "[1, 2, 3, 4]"
      ]
     },
     "execution_count": 2,
     "metadata": {},
     "output_type": "execute_result"
    }
   ],
   "source": [
    "A"
   ]
  },
  {
   "cell_type": "code",
   "execution_count": 3,
   "id": "0999995f",
   "metadata": {},
   "outputs": [
    {
     "data": {
      "text/plain": [
       "2"
      ]
     },
     "execution_count": 3,
     "metadata": {},
     "output_type": "execute_result"
    }
   ],
   "source": [
    "A[1]"
   ]
  },
  {
   "cell_type": "code",
   "execution_count": 4,
   "id": "fcc478c0",
   "metadata": {},
   "outputs": [
    {
     "data": {
      "text/plain": [
       "[1, 2]"
      ]
     },
     "execution_count": 4,
     "metadata": {},
     "output_type": "execute_result"
    }
   ],
   "source": [
    "A[:2]"
   ]
  },
  {
   "cell_type": "code",
   "execution_count": 5,
   "id": "50f4696b",
   "metadata": {},
   "outputs": [
    {
     "data": {
      "text/plain": [
       "[1, 3]"
      ]
     },
     "execution_count": 5,
     "metadata": {},
     "output_type": "execute_result"
    }
   ],
   "source": [
    "A[::2]"
   ]
  },
  {
   "cell_type": "code",
   "execution_count": 6,
   "id": "773348f1",
   "metadata": {},
   "outputs": [],
   "source": [
    "l1 = [1,2,\"str\",\"5\"]\n"
   ]
  },
  {
   "cell_type": "code",
   "execution_count": 8,
   "id": "ba45943d",
   "metadata": {},
   "outputs": [
    {
     "data": {
      "text/plain": [
       "[1, 2, 'str', '5']"
      ]
     },
     "execution_count": 8,
     "metadata": {},
     "output_type": "execute_result"
    }
   ],
   "source": [
    "l1"
   ]
  },
  {
   "cell_type": "code",
   "execution_count": 9,
   "id": "22aeddf6",
   "metadata": {},
   "outputs": [
    {
     "data": {
      "text/plain": [
       "int"
      ]
     },
     "execution_count": 9,
     "metadata": {},
     "output_type": "execute_result"
    }
   ],
   "source": [
    "type(l1[0])"
   ]
  },
  {
   "cell_type": "code",
   "execution_count": 10,
   "id": "8c673940",
   "metadata": {},
   "outputs": [
    {
     "data": {
      "text/plain": [
       "str"
      ]
     },
     "execution_count": 10,
     "metadata": {},
     "output_type": "execute_result"
    }
   ],
   "source": [
    "type(l1[2])"
   ]
  },
  {
   "cell_type": "code",
   "execution_count": 11,
   "id": "39438e9c",
   "metadata": {},
   "outputs": [],
   "source": [
    "l2 = [l1, 2,4,5,\"Khushi\"]"
   ]
  },
  {
   "cell_type": "code",
   "execution_count": 12,
   "id": "6e9d55e3",
   "metadata": {},
   "outputs": [
    {
     "data": {
      "text/plain": [
       "[[1, 2, 'str', '5'], 2, 4, 5, 'Khushi']"
      ]
     },
     "execution_count": 12,
     "metadata": {},
     "output_type": "execute_result"
    }
   ],
   "source": [
    "l2"
   ]
  },
  {
   "cell_type": "code",
   "execution_count": 13,
   "id": "4a839af0",
   "metadata": {},
   "outputs": [
    {
     "data": {
      "text/plain": [
       "[1, 2, 'str', '5']"
      ]
     },
     "execution_count": 13,
     "metadata": {},
     "output_type": "execute_result"
    }
   ],
   "source": [
    "l2[0]"
   ]
  },
  {
   "cell_type": "code",
   "execution_count": 14,
   "id": "09baf797",
   "metadata": {},
   "outputs": [
    {
     "data": {
      "text/plain": [
       "2"
      ]
     },
     "execution_count": 14,
     "metadata": {},
     "output_type": "execute_result"
    }
   ],
   "source": [
    "l1[1]"
   ]
  },
  {
   "cell_type": "code",
   "execution_count": 17,
   "id": "6a6a437e",
   "metadata": {},
   "outputs": [
    {
     "data": {
      "text/plain": [
       "'str'"
      ]
     },
     "execution_count": 17,
     "metadata": {},
     "output_type": "execute_result"
    }
   ],
   "source": [
    "l2[0][2]"
   ]
  },
  {
   "cell_type": "code",
   "execution_count": 18,
   "id": "c1fcbc3a",
   "metadata": {},
   "outputs": [],
   "source": [
    "li = list(range(0,10,2))"
   ]
  },
  {
   "cell_type": "code",
   "execution_count": 19,
   "id": "54019b78",
   "metadata": {},
   "outputs": [
    {
     "data": {
      "text/plain": [
       "[0, 2, 4, 6, 8]"
      ]
     },
     "execution_count": 19,
     "metadata": {},
     "output_type": "execute_result"
    }
   ],
   "source": [
    "li"
   ]
  },
  {
   "cell_type": "code",
   "execution_count": 20,
   "id": "73aa8905",
   "metadata": {},
   "outputs": [],
   "source": [
    "li.append(3)"
   ]
  },
  {
   "cell_type": "code",
   "execution_count": 21,
   "id": "f36a5740",
   "metadata": {},
   "outputs": [
    {
     "data": {
      "text/plain": [
       "[0, 2, 4, 6, 8, 3]"
      ]
     },
     "execution_count": 21,
     "metadata": {},
     "output_type": "execute_result"
    }
   ],
   "source": [
    "li"
   ]
  },
  {
   "cell_type": "code",
   "execution_count": 22,
   "id": "4211cf94",
   "metadata": {},
   "outputs": [],
   "source": [
    "li.sort(reverse=True)"
   ]
  },
  {
   "cell_type": "code",
   "execution_count": 23,
   "id": "df8ceed4",
   "metadata": {},
   "outputs": [
    {
     "data": {
      "text/plain": [
       "[8, 6, 4, 3, 2, 0]"
      ]
     },
     "execution_count": 23,
     "metadata": {},
     "output_type": "execute_result"
    }
   ],
   "source": [
    "li"
   ]
  },
  {
   "cell_type": "code",
   "execution_count": 24,
   "id": "ca60ed83",
   "metadata": {},
   "outputs": [],
   "source": [
    "li[2]=34"
   ]
  },
  {
   "cell_type": "code",
   "execution_count": 25,
   "id": "d39c208a",
   "metadata": {},
   "outputs": [
    {
     "data": {
      "text/plain": [
       "[8, 6, 34, 3, 2, 0]"
      ]
     },
     "execution_count": 25,
     "metadata": {},
     "output_type": "execute_result"
    }
   ],
   "source": [
    "li"
   ]
  },
  {
   "cell_type": "code",
   "execution_count": 28,
   "id": "cf697501",
   "metadata": {},
   "outputs": [],
   "source": [
    "li[0:3]=[344,88,67]"
   ]
  },
  {
   "cell_type": "code",
   "execution_count": 29,
   "id": "93404572",
   "metadata": {},
   "outputs": [
    {
     "data": {
      "text/plain": [
       "[344, 88, 67, 2, 0]"
      ]
     },
     "execution_count": 29,
     "metadata": {},
     "output_type": "execute_result"
    }
   ],
   "source": [
    "li"
   ]
  },
  {
   "cell_type": "code",
   "execution_count": 30,
   "id": "3b632619",
   "metadata": {},
   "outputs": [],
   "source": [
    "li.insert(1,\"Khushi\")"
   ]
  },
  {
   "cell_type": "code",
   "execution_count": 31,
   "id": "7164fc10",
   "metadata": {},
   "outputs": [
    {
     "data": {
      "text/plain": [
       "[344, 'Khushi', 88, 67, 2, 0]"
      ]
     },
     "execution_count": 31,
     "metadata": {},
     "output_type": "execute_result"
    }
   ],
   "source": [
    "li"
   ]
  },
  {
   "cell_type": "code",
   "execution_count": 33,
   "id": "f2c381f3",
   "metadata": {},
   "outputs": [],
   "source": [
    "li.remove(88)"
   ]
  },
  {
   "cell_type": "code",
   "execution_count": 34,
   "id": "0b7a116f",
   "metadata": {},
   "outputs": [
    {
     "data": {
      "text/plain": [
       "[344, 'Khushi', 67, 2, 0]"
      ]
     },
     "execution_count": 34,
     "metadata": {},
     "output_type": "execute_result"
    }
   ],
   "source": [
    "li"
   ]
  },
  {
   "cell_type": "code",
   "execution_count": 36,
   "id": "241f1167",
   "metadata": {},
   "outputs": [],
   "source": [
    "li.append(23)"
   ]
  },
  {
   "cell_type": "code",
   "execution_count": 37,
   "id": "9e17f971",
   "metadata": {},
   "outputs": [
    {
     "data": {
      "text/plain": [
       "[344, 'Khushi', 67, 2, 0, 23]"
      ]
     },
     "execution_count": 37,
     "metadata": {},
     "output_type": "execute_result"
    }
   ],
   "source": [
    "li"
   ]
  },
  {
   "cell_type": "code",
   "execution_count": 38,
   "id": "4ebdf22a",
   "metadata": {},
   "outputs": [],
   "source": [
    "li.append(23)"
   ]
  },
  {
   "cell_type": "code",
   "execution_count": 39,
   "id": "db5aba3c",
   "metadata": {},
   "outputs": [
    {
     "data": {
      "text/plain": [
       "[344, 'Khushi', 67, 2, 0, 23, 23]"
      ]
     },
     "execution_count": 39,
     "metadata": {},
     "output_type": "execute_result"
    }
   ],
   "source": [
    "li"
   ]
  },
  {
   "cell_type": "code",
   "execution_count": 40,
   "id": "7d490ea5",
   "metadata": {},
   "outputs": [],
   "source": [
    "li.remove(23)"
   ]
  },
  {
   "cell_type": "markdown",
   "id": "671a4e14",
   "metadata": {},
   "source": [
    "The remove function only remove the element which encounters first, not remove all the elements even if other duplicate is also present in it"
   ]
  },
  {
   "cell_type": "code",
   "execution_count": 41,
   "id": "ead50bcf",
   "metadata": {},
   "outputs": [
    {
     "data": {
      "text/plain": [
       "[344, 'Khushi', 67, 2, 0, 23]"
      ]
     },
     "execution_count": 41,
     "metadata": {},
     "output_type": "execute_result"
    }
   ],
   "source": [
    "li"
   ]
  },
  {
   "cell_type": "markdown",
   "id": "20524c30",
   "metadata": {},
   "source": [
    "## Tuples"
   ]
  },
  {
   "cell_type": "markdown",
   "id": "cf3f64e2",
   "metadata": {},
   "source": [
    "Tuples are immutable, thus cannot be changed!"
   ]
  },
  {
   "cell_type": "code",
   "execution_count": 42,
   "id": "e46686bc",
   "metadata": {},
   "outputs": [],
   "source": [
    "tup = (23,45,12)"
   ]
  },
  {
   "cell_type": "code",
   "execution_count": 43,
   "id": "52175c93",
   "metadata": {},
   "outputs": [
    {
     "data": {
      "text/plain": [
       "(23, 45, 12)"
      ]
     },
     "execution_count": 43,
     "metadata": {},
     "output_type": "execute_result"
    }
   ],
   "source": [
    "tup"
   ]
  },
  {
   "cell_type": "code",
   "execution_count": 44,
   "id": "9f0aa88a",
   "metadata": {},
   "outputs": [
    {
     "data": {
      "text/plain": [
       "45"
      ]
     },
     "execution_count": 44,
     "metadata": {},
     "output_type": "execute_result"
    }
   ],
   "source": [
    "tup[1]"
   ]
  },
  {
   "cell_type": "code",
   "execution_count": null,
   "id": "8e03b8cf",
   "metadata": {},
   "outputs": [],
   "source": [
    "tup[1]=90"
   ]
  },
  {
   "cell_type": "code",
   "execution_count": 46,
   "id": "92842ed1",
   "metadata": {},
   "outputs": [
    {
     "data": {
      "text/plain": [
       "tuple"
      ]
     },
     "execution_count": 46,
     "metadata": {},
     "output_type": "execute_result"
    }
   ],
   "source": [
    "type(tup)"
   ]
  },
  {
   "cell_type": "markdown",
   "id": "181d01d0",
   "metadata": {},
   "source": [
    "## Dictionary"
   ]
  },
  {
   "cell_type": "code",
   "execution_count": 47,
   "id": "88c0d26b",
   "metadata": {},
   "outputs": [],
   "source": [
    "dic = {\"keys1\":23, \"keys2\":45, \"keys3\":412}"
   ]
  },
  {
   "cell_type": "code",
   "execution_count": 48,
   "id": "c8b1fafb",
   "metadata": {},
   "outputs": [
    {
     "data": {
      "text/plain": [
       "{'keys1': 23, 'keys2': 45, 'keys3': 412}"
      ]
     },
     "execution_count": 48,
     "metadata": {},
     "output_type": "execute_result"
    }
   ],
   "source": [
    "dic"
   ]
  },
  {
   "cell_type": "code",
   "execution_count": 49,
   "id": "607f6fa4",
   "metadata": {},
   "outputs": [
    {
     "data": {
      "text/plain": [
       "23"
      ]
     },
     "execution_count": 49,
     "metadata": {},
     "output_type": "execute_result"
    }
   ],
   "source": [
    "dic[\"keys1\"]"
   ]
  },
  {
   "cell_type": "code",
   "execution_count": null,
   "id": "cb200229",
   "metadata": {},
   "outputs": [],
   "source": [
    "dic[0]"
   ]
  },
  {
   "cell_type": "markdown",
   "id": "d23c9d37",
   "metadata": {},
   "source": [
    "This is not allowed!"
   ]
  },
  {
   "cell_type": "code",
   "execution_count": 50,
   "id": "55533d68",
   "metadata": {},
   "outputs": [
    {
     "data": {
      "text/plain": [
       "dict"
      ]
     },
     "execution_count": 50,
     "metadata": {},
     "output_type": "execute_result"
    }
   ],
   "source": [
    "type(dic)"
   ]
  }
 ],
 "metadata": {
  "kernelspec": {
   "display_name": "Python 3 (ipykernel)",
   "language": "python",
   "name": "python3"
  },
  "language_info": {
   "codemirror_mode": {
    "name": "ipython",
    "version": 3
   },
   "file_extension": ".py",
   "mimetype": "text/x-python",
   "name": "python",
   "nbconvert_exporter": "python",
   "pygments_lexer": "ipython3",
   "version": "3.9.12"
  }
 },
 "nbformat": 4,
 "nbformat_minor": 5
}
