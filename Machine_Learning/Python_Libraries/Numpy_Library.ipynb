{
 "cells": [
  {
   "cell_type": "code",
   "execution_count": 4,
   "id": "75319e05",
   "metadata": {},
   "outputs": [],
   "source": [
    "import numpy as np"
   ]
  },
  {
   "cell_type": "code",
   "execution_count": 5,
   "id": "a009e084",
   "metadata": {},
   "outputs": [],
   "source": [
    "np1 = np.array([23,45,67])"
   ]
  },
  {
   "cell_type": "code",
   "execution_count": 6,
   "id": "68a9c840",
   "metadata": {},
   "outputs": [
    {
     "data": {
      "text/plain": [
       "array([23, 45, 67])"
      ]
     },
     "execution_count": 6,
     "metadata": {},
     "output_type": "execute_result"
    }
   ],
   "source": [
    "np1"
   ]
  },
  {
   "cell_type": "code",
   "execution_count": 7,
   "id": "a7aa1b4a",
   "metadata": {},
   "outputs": [
    {
     "data": {
      "text/plain": [
       "numpy.ndarray"
      ]
     },
     "execution_count": 7,
     "metadata": {},
     "output_type": "execute_result"
    }
   ],
   "source": [
    "type(np1)"
   ]
  },
  {
   "cell_type": "code",
   "execution_count": 8,
   "id": "1245bb66",
   "metadata": {},
   "outputs": [
    {
     "data": {
      "text/plain": [
       "(3,)"
      ]
     },
     "execution_count": 8,
     "metadata": {},
     "output_type": "execute_result"
    }
   ],
   "source": [
    "np1.shape"
   ]
  },
  {
   "cell_type": "markdown",
   "id": "e60e8f51",
   "metadata": {},
   "source": [
    "*We can only insert the same type of element in the list*"
   ]
  },
  {
   "cell_type": "code",
   "execution_count": 9,
   "id": "2659424f",
   "metadata": {},
   "outputs": [],
   "source": [
    "m1 = np.array([[12,34,56],[34,7,1]])"
   ]
  },
  {
   "cell_type": "code",
   "execution_count": 10,
   "id": "6a19edee",
   "metadata": {},
   "outputs": [
    {
     "data": {
      "text/plain": [
       "array([[12, 34, 56],\n",
       "       [34,  7,  1]])"
      ]
     },
     "execution_count": 10,
     "metadata": {},
     "output_type": "execute_result"
    }
   ],
   "source": [
    "m1"
   ]
  },
  {
   "cell_type": "code",
   "execution_count": 11,
   "id": "9cfc5b9c",
   "metadata": {},
   "outputs": [
    {
     "data": {
      "text/plain": [
       "numpy.ndarray"
      ]
     },
     "execution_count": 11,
     "metadata": {},
     "output_type": "execute_result"
    }
   ],
   "source": [
    "type(m1)"
   ]
  },
  {
   "cell_type": "code",
   "execution_count": 12,
   "id": "e579a12e",
   "metadata": {},
   "outputs": [
    {
     "data": {
      "text/plain": [
       "(2, 3)"
      ]
     },
     "execution_count": 12,
     "metadata": {},
     "output_type": "execute_result"
    }
   ],
   "source": [
    "m1.shape"
   ]
  },
  {
   "cell_type": "code",
   "execution_count": 18,
   "id": "add33456",
   "metadata": {},
   "outputs": [],
   "source": [
    "li = list(range(0,10))"
   ]
  },
  {
   "cell_type": "code",
   "execution_count": 19,
   "id": "d525e9bf",
   "metadata": {},
   "outputs": [
    {
     "data": {
      "text/plain": [
       "[0, 1, 2, 3, 4, 5, 6, 7, 8, 9]"
      ]
     },
     "execution_count": 19,
     "metadata": {},
     "output_type": "execute_result"
    }
   ],
   "source": [
    "li"
   ]
  },
  {
   "cell_type": "code",
   "execution_count": 21,
   "id": "d59ea110",
   "metadata": {},
   "outputs": [],
   "source": [
    " n2= np.arange(0,10,2)"
   ]
  },
  {
   "cell_type": "code",
   "execution_count": 23,
   "id": "370df3f1",
   "metadata": {},
   "outputs": [
    {
     "data": {
      "text/plain": [
       "array([0, 2, 4, 6, 8])"
      ]
     },
     "execution_count": 23,
     "metadata": {},
     "output_type": "execute_result"
    }
   ],
   "source": [
    "n2"
   ]
  },
  {
   "cell_type": "code",
   "execution_count": 37,
   "id": "c3924d61",
   "metadata": {},
   "outputs": [],
   "source": [
    "m1[0][0] = 4"
   ]
  },
  {
   "cell_type": "code",
   "execution_count": 38,
   "id": "a2fe6b34",
   "metadata": {},
   "outputs": [
    {
     "data": {
      "text/plain": [
       "array([[ 4, 34, 56],\n",
       "       [34,  7,  1]])"
      ]
     },
     "execution_count": 38,
     "metadata": {},
     "output_type": "execute_result"
    }
   ],
   "source": [
    "m1"
   ]
  },
  {
   "cell_type": "code",
   "execution_count": 28,
   "id": "bdd42432",
   "metadata": {},
   "outputs": [
    {
     "data": {
      "text/plain": [
       "dtype('int32')"
      ]
     },
     "execution_count": 28,
     "metadata": {},
     "output_type": "execute_result"
    }
   ],
   "source": [
    "m1.dtype"
   ]
  },
  {
   "cell_type": "code",
   "execution_count": 31,
   "id": "c2f1bfc4",
   "metadata": {},
   "outputs": [
    {
     "ename": "ValueError",
     "evalue": "invalid literal for int() with base 10: 'Khushi'",
     "output_type": "error",
     "traceback": [
      "\u001b[1;31m---------------------------------------------------------------------------\u001b[0m",
      "\u001b[1;31mValueError\u001b[0m                                Traceback (most recent call last)",
      "Input \u001b[1;32mIn [31]\u001b[0m, in \u001b[0;36m<cell line: 1>\u001b[1;34m()\u001b[0m\n\u001b[1;32m----> 1\u001b[0m m1[\u001b[38;5;241m0\u001b[39m][\u001b[38;5;241m1\u001b[39m]\u001b[38;5;241m=\u001b[39m\u001b[38;5;124m\"\u001b[39m\u001b[38;5;124mKhushi\u001b[39m\u001b[38;5;124m\"\u001b[39m\n",
      "\u001b[1;31mValueError\u001b[0m: invalid literal for int() with base 10: 'Khushi'"
     ]
    }
   ],
   "source": [
    "m1[0][1]=\"Khushi\""
   ]
  },
  {
   "cell_type": "markdown",
   "id": "1af0cb27",
   "metadata": {},
   "source": [
    "Note: We can insert same type of data into the matrix, practice of adding different data type will give the error"
   ]
  },
  {
   "cell_type": "code",
   "execution_count": 61,
   "id": "0bbc014a",
   "metadata": {},
   "outputs": [
    {
     "data": {
      "text/plain": [
       "array([[4]])"
      ]
     },
     "execution_count": 61,
     "metadata": {},
     "output_type": "execute_result"
    }
   ],
   "source": [
    "m1[0:1,0:1]"
   ]
  },
  {
   "cell_type": "markdown",
   "id": "1c90222c",
   "metadata": {},
   "source": [
    "Slicing is same as list, but here slicing done for both rows and columns"
   ]
  },
  {
   "cell_type": "code",
   "execution_count": 49,
   "id": "b62c6921",
   "metadata": {},
   "outputs": [],
   "source": [
    "m2 = np.linspace(0,10,20)\n",
    "\n",
    "# Gives the single dimensional array where 20 is the no of elememts present in the array"
   ]
  },
  {
   "cell_type": "code",
   "execution_count": 68,
   "id": "ec0f9a58",
   "metadata": {},
   "outputs": [
    {
     "data": {
      "text/plain": [
       "array([ 0.        ,  0.52631579,  1.05263158,  1.57894737,  2.10526316,\n",
       "        2.63157895,  3.15789474,  3.68421053,  4.21052632,  4.73684211,\n",
       "        5.26315789,  5.78947368,  6.31578947,  6.84210526,  7.36842105,\n",
       "        7.89473684,  8.42105263,  8.94736842,  9.47368421, 10.        ])"
      ]
     },
     "execution_count": 68,
     "metadata": {},
     "output_type": "execute_result"
    }
   ],
   "source": [
    "m2"
   ]
  },
  {
   "cell_type": "code",
   "execution_count": 70,
   "id": "12ef93ae",
   "metadata": {},
   "outputs": [
    {
     "data": {
      "text/plain": [
       "(20,)"
      ]
     },
     "execution_count": 70,
     "metadata": {},
     "output_type": "execute_result"
    }
   ],
   "source": [
    "m2.shape"
   ]
  },
  {
   "cell_type": "markdown",
   "id": "17c7f43d",
   "metadata": {},
   "source": [
    "This linspace function produces single dimensional array"
   ]
  },
  {
   "cell_type": "code",
   "execution_count": 57,
   "id": "95f6c619",
   "metadata": {},
   "outputs": [],
   "source": [
    "m3 = np.random.rand(4,4)"
   ]
  },
  {
   "cell_type": "code",
   "execution_count": 58,
   "id": "1910983a",
   "metadata": {},
   "outputs": [
    {
     "data": {
      "text/plain": [
       "array([[0.42856107, 0.17086931, 0.59862104, 0.40084693],\n",
       "       [0.67413092, 0.60961676, 0.18486289, 0.18681116],\n",
       "       [0.38676362, 0.64470264, 0.24876719, 0.85746856],\n",
       "       [0.18477221, 0.46855037, 0.83756356, 0.79372506]])"
      ]
     },
     "execution_count": 58,
     "metadata": {},
     "output_type": "execute_result"
    }
   ],
   "source": [
    "m3"
   ]
  },
  {
   "cell_type": "markdown",
   "id": "c2832fe9",
   "metadata": {},
   "source": [
    "Produced random 4X4 matrix"
   ]
  },
  {
   "cell_type": "code",
   "execution_count": 59,
   "id": "01262582",
   "metadata": {},
   "outputs": [],
   "source": [
    "m4 = np.random.randn(4,4)"
   ]
  },
  {
   "cell_type": "code",
   "execution_count": 60,
   "id": "a530d384",
   "metadata": {},
   "outputs": [
    {
     "data": {
      "text/plain": [
       "array([[ 1.13868447,  0.05838767,  0.90750928,  0.01744657],\n",
       "       [ 0.41356603,  1.33662425, -1.00137985,  0.22791466],\n",
       "       [ 1.26663124, -0.26755672,  1.48326379, -0.91325943],\n",
       "       [ 0.8944971 ,  1.63350999, -1.94181696, -1.05123163]])"
      ]
     },
     "execution_count": 60,
     "metadata": {},
     "output_type": "execute_result"
    }
   ],
   "source": [
    "m4"
   ]
  },
  {
   "cell_type": "markdown",
   "id": "1045e567",
   "metadata": {},
   "source": [
    "Produced random 4X4 matrix but also involved negative values"
   ]
  },
  {
   "cell_type": "code",
   "execution_count": 62,
   "id": "d4370a28",
   "metadata": {},
   "outputs": [
    {
     "data": {
      "text/plain": [
       "1.1386844690126543"
      ]
     },
     "execution_count": 62,
     "metadata": {},
     "output_type": "execute_result"
    }
   ],
   "source": [
    "m4[0][0]"
   ]
  },
  {
   "cell_type": "code",
   "execution_count": 64,
   "id": "849c2cbc",
   "metadata": {},
   "outputs": [
    {
     "data": {
      "text/plain": [
       "array([1.13868447, 0.05838767, 0.90750928, 0.01744657])"
      ]
     },
     "execution_count": 64,
     "metadata": {},
     "output_type": "execute_result"
    }
   ],
   "source": [
    "m4[0]"
   ]
  },
  {
   "cell_type": "code",
   "execution_count": 72,
   "id": "e2357942",
   "metadata": {},
   "outputs": [],
   "source": [
    "m5 = np.zeros([2,2])"
   ]
  },
  {
   "cell_type": "code",
   "execution_count": 73,
   "id": "66dbb876",
   "metadata": {},
   "outputs": [
    {
     "data": {
      "text/plain": [
       "array([[0., 0.],\n",
       "       [0., 0.]])"
      ]
     },
     "execution_count": 73,
     "metadata": {},
     "output_type": "execute_result"
    }
   ],
   "source": [
    "m5"
   ]
  },
  {
   "cell_type": "code",
   "execution_count": 76,
   "id": "13735742",
   "metadata": {},
   "outputs": [
    {
     "data": {
      "text/plain": [
       "dtype('float64')"
      ]
     },
     "execution_count": 76,
     "metadata": {},
     "output_type": "execute_result"
    }
   ],
   "source": [
    "m5.dtype"
   ]
  },
  {
   "cell_type": "markdown",
   "id": "17678d1e",
   "metadata": {},
   "source": [
    "All functions in numpy for creating the matrix produces float type elements"
   ]
  },
  {
   "cell_type": "code",
   "execution_count": 82,
   "id": "d3b8003d",
   "metadata": {},
   "outputs": [],
   "source": [
    "m6 = np.diag([3,2,5,7])"
   ]
  },
  {
   "cell_type": "code",
   "execution_count": 83,
   "id": "363b024c",
   "metadata": {},
   "outputs": [
    {
     "data": {
      "text/plain": [
       "array([[3, 0, 0, 0],\n",
       "       [0, 2, 0, 0],\n",
       "       [0, 0, 5, 0],\n",
       "       [0, 0, 0, 7]])"
      ]
     },
     "execution_count": 83,
     "metadata": {},
     "output_type": "execute_result"
    }
   ],
   "source": [
    "m6"
   ]
  },
  {
   "cell_type": "code",
   "execution_count": 87,
   "id": "b491a248",
   "metadata": {},
   "outputs": [],
   "source": [
    "m7 = np.ones([2,3])"
   ]
  },
  {
   "cell_type": "code",
   "execution_count": 88,
   "id": "63b1d274",
   "metadata": {},
   "outputs": [
    {
     "data": {
      "text/plain": [
       "array([[1., 1., 1.],\n",
       "       [1., 1., 1.]])"
      ]
     },
     "execution_count": 88,
     "metadata": {},
     "output_type": "execute_result"
    }
   ],
   "source": [
    "m7"
   ]
  }
 ],
 "metadata": {
  "kernelspec": {
   "display_name": "Python 3 (ipykernel)",
   "language": "python",
   "name": "python3"
  },
  "language_info": {
   "codemirror_mode": {
    "name": "ipython",
    "version": 3
   },
   "file_extension": ".py",
   "mimetype": "text/x-python",
   "name": "python",
   "nbconvert_exporter": "python",
   "pygments_lexer": "ipython3",
   "version": "3.9.12"
  }
 },
 "nbformat": 4,
 "nbformat_minor": 5
}
